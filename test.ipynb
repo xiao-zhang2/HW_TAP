{
 "cells": [
  {
   "cell_type": "markdown",
   "id": "e56efa8d-d8f8-45bb-b165-716f560acf7f",
   "metadata": {},
   "source": [
    "# 本文档用于python测试"
   ]
  },
  {
   "cell_type": "code",
   "execution_count": 1,
   "id": "af86381c-1bbc-4432-bd1c-713456cb9fb6",
   "metadata": {},
   "outputs": [
    {
     "name": "stdout",
     "output_type": "stream",
     "text": [
      "Requirement already satisfied: scipy in c:\\users\\administrator\\appdata\\local\\programs\\python\\python313\\lib\\site-packages (1.14.1)\n",
      "Requirement already satisfied: numpy<2.3,>=1.23.5 in c:\\users\\administrator\\appdata\\local\\programs\\python\\python313\\lib\\site-packages (from scipy) (2.1.2)\n"
     ]
    }
   ],
   "source": [
    "!pip install scipy\n",
    "import numpy as np\n",
    "from scipy.integrate import quad\n",
    "from scipy.optimize import fsolve"
   ]
  },
  {
   "cell_type": "markdown",
   "id": "2c1ab233-d33d-49d8-81db-59b0c6a4ab55",
   "metadata": {},
   "source": [
    "## 数值积分"
   ]
  },
  {
   "cell_type": "code",
   "execution_count": 2,
   "id": "7e87d430-e79f-4765-8291-fa43b4826095",
   "metadata": {},
   "outputs": [
    {
     "name": "stdout",
     "output_type": "stream",
     "text": [
      "积分结果： 2.0\n",
      "误差估计： 2.220446049250313e-14\n"
     ]
    }
   ],
   "source": [
    "# 定义被积函数\n",
    "f = lambda x: np.sin(x)\n",
    "\n",
    "# 计算积分\n",
    "result, error = quad(f, 0, np.pi)\n",
    "\n",
    "# 输出结果\n",
    "print(\"积分结果：\", result)\n",
    "print(\"误差估计：\", error)"
   ]
  },
  {
   "cell_type": "markdown",
   "id": "d0afd277-8712-4515-9d8d-3a58bccf3302",
   "metadata": {},
   "source": [
    "## 数值微分"
   ]
  },
  {
   "cell_type": "code",
   "execution_count": 3,
   "id": "2af8b9b3-9a6e-40bd-9e55-f32eaa05280e",
   "metadata": {},
   "outputs": [
    {
     "name": "stdout",
     "output_type": "stream",
     "text": [
      "数值微分结果： -0.47942553859647846\n"
     ]
    }
   ],
   "source": [
    "# 定义函数\n",
    "f = lambda x: np.cos(x)\n",
    "\n",
    "x0 = 0.5\n",
    "h = 1e-5\n",
    "\n",
    "# 计算数值微分（中心差分法）\n",
    "numerical_derivative = (f(x0 + h) - f(x0 - h)) / (2 * h)\n",
    "\n",
    "print(\"数值微分结果：\", numerical_derivative)"
   ]
  },
  {
   "cell_type": "markdown",
   "id": "30eaa19e-9f1f-4f98-af2c-12c1ebc2cee0",
   "metadata": {},
   "source": [
    "## 非线性方程求根"
   ]
  },
  {
   "cell_type": "code",
   "execution_count": 5,
   "id": "2369c71e-3cff-4c95-8db4-6303f322fcc2",
   "metadata": {},
   "outputs": [
    {
     "name": "stdout",
     "output_type": "stream",
     "text": [
      "方程的解： 1.4142135623730951\n"
     ]
    }
   ],
   "source": [
    "# 定义方程\n",
    "def equation(x):\n",
    "    return x**2 - 2\n",
    "\n",
    "#fsolve求解\n",
    "solution = fsolve(equation, 1.5)\n",
    "\n",
    "# 输出结果\n",
    "print(\"方程的解：\", solution[0])"
   ]
  },
  {
   "cell_type": "code",
   "execution_count": null,
   "id": "a8b0c5cf-0fd5-4bc7-905d-c275afa11330",
   "metadata": {},
   "outputs": [],
   "source": []
  }
 ],
 "metadata": {
  "kernelspec": {
   "display_name": "Python 3 (ipykernel)",
   "language": "python",
   "name": "python3"
  },
  "language_info": {
   "codemirror_mode": {
    "name": "ipython",
    "version": 3
   },
   "file_extension": ".py",
   "mimetype": "text/x-python",
   "name": "python",
   "nbconvert_exporter": "python",
   "pygments_lexer": "ipython3",
   "version": "3.13.0"
  }
 },
 "nbformat": 4,
 "nbformat_minor": 5
}
